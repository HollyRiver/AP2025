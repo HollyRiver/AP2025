{
 "cells": [
  {
   "cell_type": "markdown",
   "id": "a1da1f96",
   "metadata": {},
   "source": [
    "# Naive Bayes"
   ]
  },
  {
   "cell_type": "markdown",
   "id": "759390db",
   "metadata": {},
   "source": [
    "## 1. Intro. to Bayesian Classification"
   ]
  },
  {
   "cell_type": "markdown",
   "id": "52654c23",
   "metadata": {},
   "source": [
    "* $\\mathbb P (y=c~|~x) = f(x):$ 조건부 확률을 모델링. 기존 분류 방식\n",
    "\n",
    "$$\\mathbb P(y=c~|~x)=\\frac{p(x~|~y)p(y)}{p(x)}$$\n",
    "\n",
    "> $(x, y)$를 확률변수로 설정. $p(x~|~y)$의 계산이 어려움. 차원이 매우 크기 때문에 고차원 density 계산 매우 어렵다. $\\to$ 약간의 트릭을 써보자."
   ]
  },
  {
   "cell_type": "markdown",
   "id": "9dd83cca",
   "metadata": {},
   "source": [
    "`-` 문제 해결 방법?\n",
    "\n",
    "* 다차원의 문제를, 각 변수를 모두 독립이라 보고 판단해보자.\n",
    "\n",
    "1. $p(z~|~x) \\approx \\pi_{i=1}^p p(z_i~|~x)$: conditional independent 조건\n",
    "2. $f(x) ≡ \\sum_{i=1}^p f(x_i)$: 복잡한 다차원 함수를, 개별 변수의 함수로. GAM\n",
    "\n",
    "> Naive bayes도 이런 식으로 해버리겠다."
   ]
  },
  {
   "cell_type": "markdown",
   "id": "3862aac3",
   "metadata": {},
   "source": [
    "## 2. Naive Bayes"
   ]
  },
  {
   "cell_type": "markdown",
   "id": "502451c3",
   "metadata": {},
   "source": [
    "* 원래 joint distribution을 모델링하는 방법(discrete)\n",
    "\n",
    "||0|1|\n",
    "|:-:|:-:|:-:|\n",
    "|**0**|$a_1$|$a_2$|\n",
    "|**1**|$a_3$|$1-a_1-a_2-a_3$|\n",
    "\n",
    "> joint distribution를 정확히 모델링하기 위해선 2진 변수에 대해서만 해도 $2^k - 1$개의 파라미터 설정이 필요하다. $O(2^k)$\n",
    ">\n",
    "> 이 경우 $2^k$보다 많은 sample이 존재해야 모든 경우의 수를 파악할 수 있고, 모델이 정상적으로 작동할 수 있음.\n",
    "\n",
    "* 각 변수를 독립이라고 설정\n",
    "\n",
    "||$a_1$|$1-a_1$|\n",
    "|:-:|:-:|:-:|\n",
    "|$a_2$|$a_1 a_2$|$a_2 (1-a_1)$|\n",
    "|$1-a_2$|$a_1 (1-a_2)$|$(1-a_1)(1-a_2)$|\n",
    "\n",
    "> 이 경우 2진 변수에 대해서 총 $k$개의 파라미터만으로도 분포 표현이 가능하다. $O(k)$\n",
    ">\n",
    "> 현실적으로 이렇게 할 수밖에 없다. simple linear regression도 이것과 비슷한 원리니까, 그렇게 이상하다고 말할 순 없다."
   ]
  },
  {
   "cell_type": "markdown",
   "id": "3198f04d",
   "metadata": {},
   "source": [
    "`-` Motivation of marginal projection where $x \\in R^d$ and $x_i \\in \\{0, 1\\}$\n",
    "\n"
   ]
  },
  {
   "cell_type": "markdown",
   "id": "d036944e",
   "metadata": {
    "vscode": {
     "languageId": "plaintext"
    }
   },
   "source": [
    "* Naive Bayes 예제는 꼭 한번 해볼 것. 시험에 나올 가능성이 상당히 높아요.\n",
    "* 무슨 예제??? ppt?"
   ]
  },
  {
   "cell_type": "markdown",
   "id": "dffba1b9",
   "metadata": {},
   "source": []
  }
 ],
 "metadata": {
  "language_info": {
   "name": "python"
  }
 },
 "nbformat": 4,
 "nbformat_minor": 5
}
