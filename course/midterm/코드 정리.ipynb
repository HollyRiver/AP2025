{
 "cells": [
  {
   "cell_type": "markdown",
   "id": "1495afa3",
   "metadata": {},
   "source": [
    "`-` Transfer Learning\n",
    "\n",
    "* 배치 사이즈: 배치 사이즈를 줄이면 learning_rate와 epoch을 감소시켜야 한다. (적어도 둘 중 하나는 감소)\n",
    "* Scratch"
   ]
  }
 ],
 "metadata": {
  "language_info": {
   "name": "python"
  }
 },
 "nbformat": 4,
 "nbformat_minor": 5
}
