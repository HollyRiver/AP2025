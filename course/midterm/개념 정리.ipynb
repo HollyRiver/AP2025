{
 "cells": [
  {
   "cell_type": "markdown",
   "id": "a0e8b704",
   "metadata": {},
   "source": [
    "`-` Transfer Learning\n",
    "\n",
    "* 사전훈련된 모델을 이용하여 관련된 타겟 태스크에서 적은 훈련 데이터만으로도 높은 성능을 발휘할 수 있도록 만드는 학습 기법"
   ]
  },
  {
   "cell_type": "markdown",
   "id": "571a4f14",
   "metadata": {},
   "source": [
    "`-` Domain Adaptation\n",
    "\n",
    "* 소스 도메인의 데이터로 훈련된 모델을 연관된 다른 타겟 도메인에서도 잘 작동하도록 만드는 기술\n",
    "\n",
    "* Metric Learning, Asymmetric Transformations, Sample Reweighting, Sample Selection, DIP, CORAL"
   ]
  },
  {
   "cell_type": "markdown",
   "id": "38ab3328",
   "metadata": {},
   "source": [
    "`-` Knowledge Distillation\n",
    "\n",
    "* 기존 고성능의 모델을 이용하여 더 간단한 아키텍쳐로 조금 떨어지는 성능을 보이는 고효율의 모델을 구성하는 기술\n",
    "* Response-based, Feature-based, Relation-based"
   ]
  },
  {
   "cell_type": "markdown",
   "id": "be5ecadc",
   "metadata": {},
   "source": [
    "`-` Bayesian\n",
    "\n",
    "* Beta-binomial: 분산 $Var(\\theta~|~y)$는 확률론적으로 $O(1/n)$이다.\n",
    "* Normal-normal: $1/\\kappa$는 sample size of the prior로써, 그 값이 클수록 Posterior에 미치는 Prior의 영향력이 커지며 분산이 줄어든다. 해당 값은 데이터를 보기 이전에 결정되어야 한다."
   ]
  },
  {
   "cell_type": "markdown",
   "id": "ecac7a51",
   "metadata": {},
   "source": [
    "`-` Exponential Family\n",
    "\n",
    "* 확률분포가 $p(y~|~\\theta) = h(y) \\exp \\left( T(y)\\eta - A(\\eta) \\right),~\\eta = \\eta(\\theta)$꼴로 나타나면, Exponential Family라고 한다."
   ]
  },
  {
   "cell_type": "markdown",
   "id": "b72a3c72",
   "metadata": {},
   "source": [
    "`-` Conjugate Prior\n",
    "\n",
    "* 모델 $p(\\theta~|~y)$에 대하여 Prior가 주어졌을 때, 그 Posterior의 분포가 Prior와 같다면, 해당 Prior를 모델 $p(\\theta~|~y)$에 대한 Conjugate Prior라고 한다."
   ]
  },
  {
   "cell_type": "markdown",
   "id": "2fa84f32",
   "metadata": {},
   "source": [
    "`-` Sampling\n",
    "\n",
    "* Posterior의 커널은 알고 있지만, 그 명시적 형태를 알 수 없을 때, 샘플링을 이용하여 필요한 quantity를 계산할 수 있다.\n",
    "\n",
    "* Monte Carlo Sampling: 특정 분포에서의 반복적인 랜덤 샘플을 추출하여 필요한 quantity를 수치적으로 근사하는 방법. 대수의 법칙에 의존한다.\n",
    "* Importance Sampling: \n",
    "* Rejection Sampling: "
   ]
  },
  {
   "cell_type": "markdown",
   "id": "ef92f235",
   "metadata": {},
   "source": [
    "`-` Markov Chain\n",
    "\n",
    "* 확률변수열 $\\{X_t\\}_{t=0}^n$에 대하여 $X_t$의 확률이 직전시점에만 의존하면, markov chain이라고 한다.\n",
    "\n",
    "$$P(X_{t+1} = v_{t+1} ~|~ X_t = v_t, \\cdots, X_0 = v_0) = P(X_{t+1} = v_{t+1}~|~X_t = v_t)$$\n",
    "> where $v_i \\in \\mathcal X = \\{1, \\cdots, k\\}$\n",
    "\n",
    "* Irreducibility: 모든 관측 가능한 상태는 서로 연결되어 있어 한 상태에서 유한 시점 이내 어떤 상태로든 변화할 수 있어야 한다. 이는 양방향으로 접근 가능하다.\n",
    "* Recurrency: 체인이 특정 상태에서 시작할 때, 유한 시점 이내에 무조건 해당 상태로 돌아와야 한다.\n",
    "* Aperiodicity: multiple hidden distribution을 허용하지 않는다. 이는 체인에 주기성이 없음을 의미한다."
   ]
  },
  {
   "cell_type": "markdown",
   "id": "da7c5864",
   "metadata": {},
   "source": [
    "`-` MH algorithm\n",
    "\n",
    "* 타겟 분포를 정상 분포로 가지는 markov chain에서의 샘플링을 통해 타겟 분포에서의 샘플을 근사적으로 생성하는 알고리즘\n",
    "\n",
    "1. 타겟 분포 $\\pi$가 주어진다.\n",
    "2. $X_t = x$가 주어졌을 때, 다음 시점의 후보 $y$의 density를 나타내는 커널 $k(x, y)$를 택한다. 그리고 커널에서 $y$를 샘플링한다.\n",
    "3. acceptance rate를 계산한다.\n",
    "4. acceptance rate 적용을 위한 균등분포 확률변수 $u \\sim U(0, 1)$를 샘플링한다.\n",
    "5. $u ≤ \\alpha_{xy}$라면 $X_{t+1} = y$로 택하고, 그렇지 않다면 $X_{t+1} = x$로 유지한다.\n",
    "\n",
    "> stationary distribution까지 수렴하기에 시간이 오래 걸리고, i.i.d. sample과 동등한 분산을 가지기 위해 더 많은 샘플링을 수행해야 하며, 계속 같은 값을 샘플링하는 경우가 필연적으로 발생한다는 한계가 있다."
   ]
  },
  {
   "cell_type": "markdown",
   "id": "55144a7a",
   "metadata": {},
   "source": [
    "`-` Naive Bayes\n",
    "\n",
    "* 베이지안에서 분류 문제는 $p(y=c~|~x) \\propto p(x~|~y)p(y)$로 나타나는데, $x$의 차원이 커질수록 likelihood의 계산이 매우 복잡해진다. Naive Bayes는 개별 attribute가 조건부 독립이라고 가정한 뒤, 근사를 통해 간단하게 계산한다."
   ]
  },
  {
   "cell_type": "markdown",
   "id": "de66c927",
   "metadata": {},
   "source": [
    "`-` Variational Bayes\n",
    "\n",
    "* Posterior의 차원이 클 경우, 파라미터 간 Correlation으로 인해 샘플링이 어렵다. 따라서 개별 파라미터들이 조건부 독립인 공간에서의 분포 $q_{\\phi}(\\theta) = \\prod_{i=1} q_{\\phi}(\\theta_i)$와 Posterior간의 KL divergence가 최소가 되도록 $\\phi$를 설정하여 Posterior를 근사한 뒤 샘플링을 수행한다."
   ]
  },
  {
   "cell_type": "markdown",
   "id": "e3f14b36",
   "metadata": {},
   "source": []
  }
 ],
 "metadata": {
  "language_info": {
   "name": "python"
  }
 },
 "nbformat": 4,
 "nbformat_minor": 5
}
